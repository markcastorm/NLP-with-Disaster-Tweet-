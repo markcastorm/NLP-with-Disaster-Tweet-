{
  "nbformat": 4,
  "nbformat_minor": 0,
  "metadata": {
    "colab": {
      "provenance": [],
      "mount_file_id": "1TRipSutgRbgPi0BFnlr4cLWIE_ttyqoF",
      "authorship_tag": "ABX9TyO910b+Az20tfwDFT5JorhQ",
      "include_colab_link": true
    },
    "kernelspec": {
      "display_name": "Python 3",
      "name": "python3"
    },
    "language_info": {
      "name": "python"
    }
  },
  "cells": [
    {
      "cell_type": "markdown",
      "metadata": {
        "id": "view-in-github",
        "colab_type": "text"
      },
      "source": [
        "<a href=\"https://colab.research.google.com/github/markcastorm/NLP-with-Disaster-Tweet-/blob/main/NLP_with_Disaster_Tweet_.ipynb\" target=\"_parent\"><img src=\"https://colab.research.google.com/assets/colab-badge.svg\" alt=\"Open In Colab\"/></a>"
      ]
    },
    {
      "cell_type": "markdown",
      "metadata": {
        "id": "Pqw9NPAPvX7C"
      },
      "source": [
        "Import Libraries"
      ]
    },
    {
      "cell_type": "code",
      "metadata": {
        "colab": {
          "base_uri": "https://localhost:8080/"
        },
        "id": "arrL-Ghpm57v",
        "outputId": "0d609835-f3ac-4d58-eb74-cd4f60902d1f"
      },
      "source": [
        "for i in [0,2,3]:\n",
        "    if i%2 == 0:\n",
        "        print(\"even\")\n",
        "    elif i == 0:\n",
        "        print(\"zero\")\n",
        "    else:\n",
        "        print(\"odd\")"
      ],
      "execution_count": null,
      "outputs": [
        {
          "output_type": "stream",
          "name": "stdout",
          "text": [
            "even\n",
            "even\n",
            "odd\n"
          ]
        }
      ]
    },
    {
      "cell_type": "code",
      "metadata": {
        "colab": {
          "base_uri": "https://localhost:8080/"
        },
        "id": "k4hVB0VqvLvn",
        "outputId": "42008550-383f-47c2-d816-67488c0913c1"
      },
      "source": [
        "import pandas as pd\n",
        "import numpy as np\n",
        "import seaborn as sns\n",
        "import matplotlib.pyplot as plt\n",
        "import nltk\n",
        "\n",
        "import re\n",
        "import string\n",
        "!pip install emoji\n",
        "import emoji\n",
        "\n",
        "import warnings\n",
        "warnings.filterwarnings('ignore')\n"
      ],
      "execution_count": null,
      "outputs": [
        {
          "name": "stdout",
          "output_type": "stream",
          "text": [
            "Collecting emoji\n",
            "  Downloading emoji-1.6.1.tar.gz (170 kB)\n",
            "\u001b[?25l\r\u001b[K     |██                              | 10 kB 23.1 MB/s eta 0:00:01\r\u001b[K     |███▉                            | 20 kB 27.9 MB/s eta 0:00:01\r\u001b[K     |█████▉                          | 30 kB 20.1 MB/s eta 0:00:01\r\u001b[K     |███████▊                        | 40 kB 16.9 MB/s eta 0:00:01\r\u001b[K     |█████████▋                      | 51 kB 7.6 MB/s eta 0:00:01\r\u001b[K     |███████████▋                    | 61 kB 8.8 MB/s eta 0:00:01\r\u001b[K     |█████████████▌                  | 71 kB 7.9 MB/s eta 0:00:01\r\u001b[K     |███████████████▍                | 81 kB 8.7 MB/s eta 0:00:01\r\u001b[K     |█████████████████▍              | 92 kB 9.6 MB/s eta 0:00:01\r\u001b[K     |███████████████████▎            | 102 kB 7.4 MB/s eta 0:00:01\r\u001b[K     |█████████████████████▏          | 112 kB 7.4 MB/s eta 0:00:01\r\u001b[K     |███████████████████████▏        | 122 kB 7.4 MB/s eta 0:00:01\r\u001b[K     |█████████████████████████       | 133 kB 7.4 MB/s eta 0:00:01\r\u001b[K     |███████████████████████████     | 143 kB 7.4 MB/s eta 0:00:01\r\u001b[K     |█████████████████████████████   | 153 kB 7.4 MB/s eta 0:00:01\r\u001b[K     |██████████████████████████████▉ | 163 kB 7.4 MB/s eta 0:00:01\r\u001b[K     |████████████████████████████████| 170 kB 7.4 MB/s \n",
            "\u001b[?25hBuilding wheels for collected packages: emoji\n",
            "  Building wheel for emoji (setup.py) ... \u001b[?25l\u001b[?25hdone\n",
            "  Created wheel for emoji: filename=emoji-1.6.1-py3-none-any.whl size=169314 sha256=5c8ec72e1f22282df240080a6fa5be62c2ce0b7d4d2a2ff977bb29d859308d43\n",
            "  Stored in directory: /root/.cache/pip/wheels/ea/5f/d3/03d313ddb3c2a1a427bb4690f1621eea60fe6f2a30cc95940f\n",
            "Successfully built emoji\n",
            "Installing collected packages: emoji\n",
            "Successfully installed emoji-1.6.1\n"
          ]
        }
      ]
    },
    {
      "cell_type": "code",
      "metadata": {
        "colab": {
          "background_save": true
        },
        "id": "l58mH5KBfvQt",
        "outputId": "d41ec47a-1f7a-4c6c-bcfe-b28b8dac9109"
      },
      "source": [
        "array_1 =np.array([[1, 2, 7], [3,4, 8]])\n",
        "array_2 =np.array([[1, 2], [3,9],[4, 16]])\n",
        "\n",
        "np.dot(array_1, array_2)"
      ],
      "execution_count": null,
      "outputs": [
        {
          "data": {
            "text/plain": [
              "array([[ 35, 132],\n",
              "       [ 47, 170]])"
            ]
          },
          "execution_count": null,
          "metadata": {},
          "output_type": "execute_result"
        }
      ]
    },
    {
      "cell_type": "code",
      "metadata": {
        "id": "EK3HWmDXwiQH"
      },
      "source": [
        "train_data = pd.read_csv('train.csv')\n",
        "test_data = pd.read_csv('test.csv')"
      ],
      "execution_count": null,
      "outputs": []
    },
    {
      "cell_type": "code",
      "metadata": {
        "colab": {
          "base_uri": "https://localhost:8080/",
          "height": 206
        },
        "id": "2j1mIWyH0Hlg",
        "outputId": "09e6e6b3-5c53-4ad4-e201-c95cff82ceba"
      },
      "source": [
        "train_data.head()"
      ],
      "execution_count": null,
      "outputs": [
        {
          "data": {
            "text/html": [
              "<div>\n",
              "<style scoped>\n",
              "    .dataframe tbody tr th:only-of-type {\n",
              "        vertical-align: middle;\n",
              "    }\n",
              "\n",
              "    .dataframe tbody tr th {\n",
              "        vertical-align: top;\n",
              "    }\n",
              "\n",
              "    .dataframe thead th {\n",
              "        text-align: right;\n",
              "    }\n",
              "</style>\n",
              "<table border=\"1\" class=\"dataframe\">\n",
              "  <thead>\n",
              "    <tr style=\"text-align: right;\">\n",
              "      <th></th>\n",
              "      <th>id</th>\n",
              "      <th>keyword</th>\n",
              "      <th>location</th>\n",
              "      <th>text</th>\n",
              "      <th>target</th>\n",
              "    </tr>\n",
              "  </thead>\n",
              "  <tbody>\n",
              "    <tr>\n",
              "      <th>0</th>\n",
              "      <td>1</td>\n",
              "      <td>NaN</td>\n",
              "      <td>NaN</td>\n",
              "      <td>Our Deeds are the Reason of this #earthquake M...</td>\n",
              "      <td>1</td>\n",
              "    </tr>\n",
              "    <tr>\n",
              "      <th>1</th>\n",
              "      <td>4</td>\n",
              "      <td>NaN</td>\n",
              "      <td>NaN</td>\n",
              "      <td>Forest fire near La Ronge Sask. Canada</td>\n",
              "      <td>1</td>\n",
              "    </tr>\n",
              "    <tr>\n",
              "      <th>2</th>\n",
              "      <td>5</td>\n",
              "      <td>NaN</td>\n",
              "      <td>NaN</td>\n",
              "      <td>All residents asked to 'shelter in place' are ...</td>\n",
              "      <td>1</td>\n",
              "    </tr>\n",
              "    <tr>\n",
              "      <th>3</th>\n",
              "      <td>6</td>\n",
              "      <td>NaN</td>\n",
              "      <td>NaN</td>\n",
              "      <td>13,000 people receive #wildfires evacuation or...</td>\n",
              "      <td>1</td>\n",
              "    </tr>\n",
              "    <tr>\n",
              "      <th>4</th>\n",
              "      <td>7</td>\n",
              "      <td>NaN</td>\n",
              "      <td>NaN</td>\n",
              "      <td>Just got sent this photo from Ruby #Alaska as ...</td>\n",
              "      <td>1</td>\n",
              "    </tr>\n",
              "  </tbody>\n",
              "</table>\n",
              "</div>"
            ],
            "text/plain": [
              "   id keyword  ...                                               text target\n",
              "0   1     NaN  ...  Our Deeds are the Reason of this #earthquake M...      1\n",
              "1   4     NaN  ...             Forest fire near La Ronge Sask. Canada      1\n",
              "2   5     NaN  ...  All residents asked to 'shelter in place' are ...      1\n",
              "3   6     NaN  ...  13,000 people receive #wildfires evacuation or...      1\n",
              "4   7     NaN  ...  Just got sent this photo from Ruby #Alaska as ...      1\n",
              "\n",
              "[5 rows x 5 columns]"
            ]
          },
          "execution_count": 53,
          "metadata": {
            "tags": []
          },
          "output_type": "execute_result"
        }
      ]
    },
    {
      "cell_type": "code",
      "metadata": {
        "colab": {
          "base_uri": "https://localhost:8080/"
        },
        "id": "6qbrFJds0Tr2",
        "outputId": "6e362f0c-17c3-48ef-ad38-b395d1a910bc"
      },
      "source": [
        "print(\"Total rows in train data:\", train_data.shape[0])\n",
        "print(\"Total columns in train data:\", train_data.shape[1])\n",
        "print(\"_\"*30)\n",
        "print(\"Total rows in test data:\", test_data.shape[0])\n",
        "print(\"Total columns in test data:\", test_data.shape[1])"
      ],
      "execution_count": null,
      "outputs": [
        {
          "name": "stdout",
          "output_type": "stream",
          "text": [
            "Total rows in train data: 7613\n",
            "Total columns in train data: 5\n",
            "______________________________\n",
            "Total rows in test data: 3263\n",
            "Total columns in test data: 4\n"
          ]
        }
      ]
    },
    {
      "cell_type": "markdown",
      "metadata": {
        "id": "7BcPULcr1EjY"
      },
      "source": [
        "Checking for null data. Since keyword and location columns has null value i am going to drop them"
      ]
    },
    {
      "cell_type": "code",
      "metadata": {
        "colab": {
          "base_uri": "https://localhost:8080/"
        },
        "id": "qGCherD41D6b",
        "outputId": "7d8d2837-b9de-47c9-8b3e-6bd46e3441f2"
      },
      "source": [
        "print(train_data.isnull().sum())\n",
        "print(\"_\"*30)\n",
        "print(test_data.isnull().sum())"
      ],
      "execution_count": null,
      "outputs": [
        {
          "name": "stdout",
          "output_type": "stream",
          "text": [
            "id             0\n",
            "keyword       61\n",
            "location    2533\n",
            "text           0\n",
            "target         0\n",
            "dtype: int64\n",
            "______________________________\n",
            "id             0\n",
            "keyword       26\n",
            "location    1105\n",
            "text           0\n",
            "dtype: int64\n"
          ]
        }
      ]
    },
    {
      "cell_type": "markdown",
      "metadata": {
        "id": "TB_vPept1uMs"
      },
      "source": [
        "Counting and visualizing total positive and negative target in our training data"
      ]
    },
    {
      "cell_type": "code",
      "metadata": {
        "colab": {
          "base_uri": "https://localhost:8080/"
        },
        "id": "pPLXw1581yv4",
        "outputId": "4def6f40-e24f-468d-bcdf-2eabcf5de1fb"
      },
      "source": [
        "train_data.groupby(train_data.target).count().text"
      ],
      "execution_count": null,
      "outputs": [
        {
          "data": {
            "text/plain": [
              "target\n",
              "0    4342\n",
              "1    3271\n",
              "Name: text, dtype: int64"
            ]
          },
          "execution_count": 56,
          "metadata": {
            "tags": []
          },
          "output_type": "execute_result"
        }
      ]
    },
    {
      "cell_type": "code",
      "metadata": {
        "colab": {
          "base_uri": "https://localhost:8080/",
          "height": 279
        },
        "id": "nmdxhxPw2MEC",
        "outputId": "ebf2f285-cc24-40a8-e35c-5e6a491f067a"
      },
      "source": [
        "sns.countplot(train_data.target, data = train_data)\n",
        "plt.show()"
      ],
      "execution_count": null,
      "outputs": [
        {
          "data": {
            "image/png": "[encoded data removed]",
            "text/plain": [
              "<Figure size 432x288 with 1 Axes>"
            ]
          },
          "metadata": {
            "tags": []
          },
          "output_type": "display_data"
        }
      ]
    },
    {
      "cell_type": "code",
      "metadata": {
        "colab": {
          "base_uri": "https://localhost:8080/",
          "height": 320
        },
        "id": "RoSqhzvK6Jek",
        "outputId": "d67acd81-2819-410c-9031-c9513a560b6b"
      },
      "source": [
        "fig, (ax1,ax2) = plt.subplots(1,2,figsize = (12,5),constrained_layout=True)\n",
        "plt.subplots_adjust(wspace = 0.5)\n",
        "\n",
        "negative_count = train_data.target.value_counts().tolist()[0]\n",
        "positive_count = train_data.target.value_counts().tolist()[1]\n",
        "\n",
        "ax1.bar(train_data.target.unique(),train_data.target.value_counts(),color = ['blue', 'orange'],width =0.8)\n",
        "ax1.set_xticks(train_data.target.unique())\n",
        "ax1.set_xticklabels(('Negative','Positive'))\n",
        "\n",
        "ax2.pie((negative_count, positive_count), labels = ('Negative','Positive'), autopct='%1.1f%%', shadow=True, startangle=90, explode=[0,0.1])\n",
        "plt.show()"
      ],
      "execution_count": null,
      "outputs": [
        {
          "data": {
            "image/png": "[encoded data removed]",
            "text/plain": [
              "<Figure size 864x360 with 2 Axes>"
            ]
          },
          "metadata": {
            "tags": []
          },
          "output_type": "display_data"
        }
      ]
    },
    {
      "cell_type": "markdown",
      "metadata": {
        "id": "-rZnPTat7jUX"
      },
      "source": [
        "Here, I am going to use only text column for analysis so I am dropping other columns¶"
      ]
    },
    {
      "cell_type": "code",
      "metadata": {
        "id": "ip4IjJGj7mEh"
      },
      "source": [
        "train_data = train_data.iloc[:,3:]\n",
        "test_data = test_data.iloc[:,3:]"
      ],
      "execution_count": null,
      "outputs": []
    },
    {
      "cell_type": "markdown",
      "metadata": {
        "id": "MUKZv_yh8JD0"
      },
      "source": [
        "\n",
        "##Cleaning tweets\n",
        "\n",
        "Cleaning process involves removal of emojis,hyperlink,punctuations and many more.\n"
      ]
    },
    {
      "cell_type": "code",
      "metadata": {
        "id": "Kh2oBzRA8OdP"
      },
      "source": [
        "def cleanTweet(txt):\n",
        "    txt = re.sub(r'@[A-Za-z0-9_]+','',txt)\n",
        "    txt = re.sub(r'#','',txt)\n",
        "    txt = re.sub(r'RT : ','',txt)\n",
        "    txt = re.sub(r'\\n','',txt)\n",
        "    # to remove emojis\n",
        "    txt = re.sub(emoji.get_emoji_regexp(), r\"\", txt)\n",
        "    txt = re.sub(r'https?:\\/\\/[A-Za-z0-9\\.\\/]+','',txt)\n",
        "    txt = re.sub(r\"https?://\\S+|www\\.\\S+\",\"\",txt)\n",
        "    txt = re.sub(r\"<.*?>\",\"\",txt)\n",
        "    return txt\n",
        "\n",
        "def remove_punct(text):\n",
        "    table=str.maketrans('','',string.punctuation)\n",
        "    return text.translate(table)\n",
        "\n",
        "def make_Lower(text):\n",
        "    return str.lower(text)\n",
        "\n"
      ],
      "execution_count": null,
      "outputs": []
    },
    {
      "cell_type": "code",
      "metadata": {
        "colab": {
          "base_uri": "https://localhost:8080/"
        },
        "id": "ZeAx0n6dmK8T",
        "outputId": "79ba17d3-8d77-4077-be2c-053a543c8ae7"
      },
      "source": [
        "print(\"Tweet before cleaning::\", train_data.text[200])\n",
        "print(\"Tweet after cleaning:: \",train_data.text.apply(cleanTweet)[200])"
      ],
      "execution_count": null,
      "outputs": [
        {
          "name": "stdout",
          "output_type": "stream",
          "text": [
            "Tweet before cleaning:: HAPPENING NOW - HATZOLAH EMS AMBULANCE RESPONDING WITH DUAL SIRENS ANDÛ_ https://t.co/SeK6MQ6NJF\n",
            "Tweet after cleaning::  HAPPENING NOW - HATZOLAH EMS AMBULANCE RESPONDING WITH DUAL SIRENS ANDÛ_ \n"
          ]
        }
      ]
    },
    {
      "cell_type": "code",
      "metadata": {
        "colab": {
          "base_uri": "https://localhost:8080/"
        },
        "id": "dwKF0Oovoa1u",
        "outputId": "c30d2442-28f1-419b-b3c4-9e891f117c87"
      },
      "source": [
        "text = \"#@Hello &World\"\n",
        "print(remove_punct(text))"
      ],
      "execution_count": null,
      "outputs": [
        {
          "name": "stdout",
          "output_type": "stream",
          "text": [
            "Hello World\n"
          ]
        }
      ]
    },
    {
      "cell_type": "code",
      "metadata": {
        "colab": {
          "base_uri": "https://localhost:8080/"
        },
        "id": "WdiuF39ooynm",
        "outputId": "dc17316d-5009-47e2-9c11-15c15c42e077"
      },
      "source": [
        "text = 'HELLO WORLD'\n",
        "print(make_Lower(text))"
      ],
      "execution_count": null,
      "outputs": [
        {
          "name": "stdout",
          "output_type": "stream",
          "text": [
            "hello world\n"
          ]
        }
      ]
    },
    {
      "cell_type": "code",
      "metadata": {
        "id": "qa0BM7e_pIMb"
      },
      "source": [
        "train_data.text = train_data.text.apply(cleanTweet)\n",
        "train_data.text = train_data.text.apply(remove_punct)\n",
        "train_data.text = train_data.text.apply(make_Lower)\n",
        "\n",
        "test_data.text = test_data.text.apply(cleanTweet)\n",
        "test_data.text = test_data.text.apply(remove_punct)\n",
        "test_data.text = test_data.text.apply(make_Lower)\n"
      ],
      "execution_count": null,
      "outputs": []
    },
    {
      "cell_type": "code",
      "metadata": {
        "colab": {
          "base_uri": "https://localhost:8080/"
        },
        "id": "QB58IimYxGpu",
        "outputId": "470a8d9f-ea11-4127-d2ed-69c3dfcb6507"
      },
      "source": [
        "!pip install pyspellchecker"
      ],
      "execution_count": null,
      "outputs": [
        {
          "name": "stdout",
          "output_type": "stream",
          "text": [
            "Requirement already satisfied: pyspellchecker in /usr/local/lib/python3.7/dist-packages (0.6.2)\n"
          ]
        }
      ]
    },
    {
      "cell_type": "code",
      "metadata": {
        "colab": {
          "base_uri": "https://localhost:8080/",
          "height": 36
        },
        "id": "PwhZMtIOxNQ9",
        "outputId": "04b6d83b-9b61-4183-a542-ab38d9f6c767"
      },
      "source": [
        "\n",
        "from spellchecker import SpellChecker\n",
        "\n",
        "spell = SpellChecker()\n",
        "def correct_spellings(text):\n",
        "    corrected_text = []\n",
        "    misspelled_words = spell.unknown(text.split())\n",
        "    for word in text.split():\n",
        "        if word in misspelled_words:\n",
        "            corrected_text.append(spell.correction(word))\n",
        "        else:\n",
        "            corrected_text.append(word)\n",
        "    return \" \".join(corrected_text)\n",
        "\n",
        "text = \"speling mistke\"\n",
        "correct_spellings(text)"
      ],
      "execution_count": null,
      "outputs": [
        {
          "data": {
            "application/vnd.google.colaboratory.intrinsic+json": {
              "type": "string"
            },
            "text/plain": [
              "'spelling mistake'"
            ]
          },
          "execution_count": 66,
          "metadata": {
            "tags": []
          },
          "output_type": "execute_result"
        }
      ]
    },
    {
      "cell_type": "markdown",
      "metadata": {
        "id": "N5opfxzTzHL3"
      },
      "source": [
        " You can use this function to correct spellings\n",
        " train_data.text = train_data.text.apply(correct_spellings)\n",
        " test_data.text = test_data.text.apply(correct_spellings)"
      ]
    },
    {
      "cell_type": "markdown",
      "metadata": {
        "id": "pzaALA_QzRSU"
      },
      "source": [
        "Removing Stopwords from data"
      ]
    },
    {
      "cell_type": "code",
      "metadata": {
        "colab": {
          "base_uri": "https://localhost:8080/"
        },
        "id": "NU1oDxnczL-z",
        "outputId": "afbbf0be-a288-4da7-e097-06ffc12b582c"
      },
      "source": [
        "from nltk.corpus import stopwords\n",
        "nltk.download('stopwords')\n",
        "stop = set(stopwords.words('english'))\n",
        "def remove_stopwords(text):\n",
        "    text = [word.lower() for word in text.split() if word.lower() not in stop]\n",
        "    return \" \".join(text)"
      ],
      "execution_count": null,
      "outputs": [
        {
          "name": "stdout",
          "output_type": "stream",
          "text": [
            "[nltk_data] Downloading package stopwords to /root/nltk_data...\n",
            "[nltk_data]   Package stopwords is already up-to-date!\n"
          ]
        }
      ]
    },
    {
      "cell_type": "code",
      "metadata": {
        "id": "QG7juEcT0bHq"
      },
      "source": [
        "train_data.text = train_data.text.apply(remove_stopwords)\n",
        "test_data.text = test_data.text.apply(remove_stopwords)\n"
      ],
      "execution_count": null,
      "outputs": []
    },
    {
      "cell_type": "markdown",
      "metadata": {
        "id": "LDj80JA70v7J"
      },
      "source": [
        "Definning Hyperparameters"
      ]
    },
    {
      "cell_type": "code",
      "metadata": {
        "id": "hLlOxPAP1evW"
      },
      "source": [
        "vocab = 20000\n",
        "oov = '<OOV>'\n",
        "embedding = 32\n",
        "padding = 'post'\n",
        "truncate = 'post'\n",
        "\n"
      ],
      "execution_count": null,
      "outputs": []
    },
    {
      "cell_type": "code",
      "metadata": {
        "id": "X2yyZbWr11zu"
      },
      "source": [
        "# import necessary libraries for text preprocessing\n",
        "from keras.preprocessing.text import Tokenizer\n",
        "from keras.preprocessing.sequence import pad_sequences\n"
      ],
      "execution_count": null,
      "outputs": []
    },
    {
      "cell_type": "code",
      "metadata": {
        "id": "0y-C7_6W2Mom"
      },
      "source": [
        "# preparing training data\n",
        "train_ = train_data.drop('target',axis = 1)\n",
        "train_y = train_data.target"
      ],
      "execution_count": null,
      "outputs": []
    },
    {
      "cell_type": "markdown",
      "metadata": {
        "id": "FD_wK1Me2xIo"
      },
      "source": [
        "Here I have splitted training data to train and validation data to check the performance of model"
      ]
    },
    {
      "cell_type": "code",
      "metadata": {
        "colab": {
          "base_uri": "https://localhost:8080/"
        },
        "id": "dIPZUZv722PT",
        "outputId": "0da3c039-7241-4751-eb36-881de931a8ff"
      },
      "source": [
        "\n",
        "train_size = 0.8\n",
        "size = int(train_size * train_data.shape[0])\n",
        "train_x_data = train_.iloc[:size,:]\n",
        "train_y_data =  train_y.iloc[:size]\n",
        "print(\"Shape of X train data: \",train_x_data.shape)\n",
        "print(\"Shape of Y train data\",train_x_data.shape)\n",
        "\n",
        "validation_x_data = train_.iloc[size:,:]\n",
        "validation_y_data =  train_y.iloc[size:]\n",
        "print(\"Shape of X validation data: \",validation_x_data.shape)\n",
        "print(\"Shape of Y validation data\",validation_x_data.shape)\n"
      ],
      "execution_count": null,
      "outputs": [
        {
          "name": "stdout",
          "output_type": "stream",
          "text": [
            "Shape of X train data:  (6090, 1)\n",
            "Shape of Y train data (6090, 1)\n",
            "Shape of X validation data:  (1523, 1)\n",
            "Shape of Y validation data (1523, 1)\n"
          ]
        }
      ]
    },
    {
      "cell_type": "code",
      "metadata": {
        "colab": {
          "base_uri": "https://localhost:8080/"
        },
        "id": "UnrRwm-C5hdo",
        "outputId": "1b06ab24-8ea4-4e2b-928a-14a562a6ad1a"
      },
      "source": [
        "tokenizer = Tokenizer(num_words = vocab, oov_token = oov)\n",
        "tokenizer.fit_on_texts(train_x_data.text)\n",
        "word_index = tokenizer.word_index\n",
        "print(\"Length: \",len(word_index))\n"
      ],
      "execution_count": null,
      "outputs": [
        {
          "name": "stdout",
          "output_type": "stream",
          "text": [
            "Length:  13831\n"
          ]
        }
      ]
    },
    {
      "cell_type": "code",
      "metadata": {
        "id": "pupBqHEEFG-C"
      },
      "source": [
        "training_x = tokenizer.texts_to_sequences(train_x_data.text)\n",
        "training_x_pad = pad_sequences(training_x,maxlen=25, padding=padding, truncating=truncate)\n",
        "\n",
        "validation_x = tokenizer.texts_to_sequences(validation_x_data.text)\n",
        "validation_x_pad = pad_sequences(validation_x,maxlen=25, padding=padding, truncating=truncate)\n",
        "\n",
        "training_y = train_y_data.values\n",
        "validation_y = validation_y_data.values"
      ],
      "execution_count": null,
      "outputs": []
    },
    {
      "cell_type": "markdown",
      "metadata": {
        "id": "AhPuugAMIFGh"
      },
      "source": [
        "###Defining our model"
      ]
    },
    {
      "cell_type": "code",
      "source": [
        "print(3**3)"
      ],
      "metadata": {
        "colab": {
          "base_uri": "https://localhost:8080/"
        },
        "id": "zD1C5Y34cZOT",
        "outputId": "6f4428bf-1f86-4850-e92d-650650ba0693"
      },
      "execution_count": null,
      "outputs": [
        {
          "output_type": "stream",
          "name": "stdout",
          "text": [
            "27\n"
          ]
        }
      ]
    },
    {
      "cell_type": "code",
      "metadata": {
        "colab": {
          "base_uri": "https://localhost:8080/"
        },
        "id": "o522wKj9IKBG",
        "outputId": "b700c2d9-ab9f-4601-d7ae-0ce108214c84"
      },
      "source": [
        "import tensorflow as tf\n",
        "import keras\n",
        "from keras import layers\n",
        "\n",
        "def give_model():\n",
        "    model = keras.models.Sequential()\n",
        "    model.add(layers.Embedding(vocab, embedding, input_length=25))\n",
        "    model.add(layers.Bidirectional(layers.LSTM(128,return_sequences = True)))\n",
        "    model.add(layers.LSTM(64))\n",
        "    model.add(layers.Dropout(0.2))\n",
        "    model.add(layers.Flatten())\n",
        "    model.add(layers.Dense(units = 10,activation = 'relu'))\n",
        "    model.add(layers.Dropout(0.2))\n",
        "    model.add(layers.Dense(units = 1, activation = 'sigmoid'))\n",
        "\n",
        "\n",
        "    return model\n",
        "model = give_model()\n",
        "model.summary()"
      ],
      "execution_count": null,
      "outputs": [
        {
          "name": "stdout",
          "output_type": "stream",
          "text": [
            "Model: \"sequential_1\"\n",
            "_________________________________________________________________\n",
            "Layer (type)                 Output Shape              Param #   \n",
            "=================================================================\n",
            "embedding_1 (Embedding)      (None, 25, 32)            640000    \n",
            "_________________________________________________________________\n",
            "bidirectional_1 (Bidirection (None, 25, 256)           164864    \n",
            "_________________________________________________________________\n",
            "lstm_3 (LSTM)                (None, 64)                82176     \n",
            "_________________________________________________________________\n",
            "dropout_2 (Dropout)          (None, 64)                0         \n",
            "_________________________________________________________________\n",
            "flatten_1 (Flatten)          (None, 64)                0         \n",
            "_________________________________________________________________\n",
            "dense_2 (Dense)              (None, 10)                650       \n",
            "_________________________________________________________________\n",
            "dropout_3 (Dropout)          (None, 10)                0         \n",
            "_________________________________________________________________\n",
            "dense_3 (Dense)              (None, 1)                 11        \n",
            "=================================================================\n",
            "Total params: 887,701\n",
            "Trainable params: 887,701\n",
            "Non-trainable params: 0\n",
            "_________________________________________________________________\n"
          ]
        }
      ]
    },
    {
      "cell_type": "code",
      "metadata": {
        "id": "B9BEJk7xQELk"
      },
      "source": [
        "early_stopping = tf.keras.callbacks.EarlyStopping(monitor = 'val_loss',patience = 2, mode = 'min', min_delta = 0.01)\n",
        "LOSS = tf.keras.losses.BinaryCrossentropy()\n",
        "OPTIMIZER = tf.keras.optimizers.Adam(learning_rate = 0.001)\n",
        "EPOCHS = 30\n",
        "VALIDATION_DATA = (validation_x_pad,validation_y)\n",
        "model.compile(loss = LOSS, optimizer = OPTIMIZER, metrics = ['accuracy'])"
      ],
      "execution_count": null,
      "outputs": []
    },
    {
      "cell_type": "code",
      "metadata": {
        "colab": {
          "base_uri": "https://localhost:8080/"
        },
        "id": "HFo6eGOmTd1f",
        "outputId": "9b417224-c59d-4214-f539-fbb3a93405da"
      },
      "source": [
        "history = model.fit(training_x_pad, training_y, epochs = EPOCHS, validation_data = VALIDATION_DATA,\n",
        "                   callbacks = [early_stopping])"
      ],
      "execution_count": null,
      "outputs": [
        {
          "name": "stdout",
          "output_type": "stream",
          "text": [
            "Epoch 1/30\n",
            "191/191 [==============================] - 25s 97ms/step - loss: 0.6562 - accuracy: 0.6008 - val_loss: 0.4906 - val_accuracy: 0.7794\n",
            "Epoch 2/30\n",
            "191/191 [==============================] - 16s 85ms/step - loss: 0.3332 - accuracy: 0.8836 - val_loss: 0.4989 - val_accuracy: 0.7774\n",
            "Epoch 3/30\n",
            "191/191 [==============================] - 16s 84ms/step - loss: 0.2203 - accuracy: 0.9359 - val_loss: 0.5525 - val_accuracy: 0.7695\n"
          ]
        }
      ]
    },
    {
      "cell_type": "markdown",
      "metadata": {
        "id": "pcS_JiVK2ODw"
      },
      "source": [
        "Visualizing our model performance"
      ]
    },
    {
      "cell_type": "code",
      "metadata": {
        "colab": {
          "base_uri": "https://localhost:8080/",
          "height": 267
        },
        "id": "IrzSTr1L2T5p",
        "outputId": "39475ae0-a7e0-4672-f639-fc18d5b46b29"
      },
      "source": [
        "plt.subplot(2,1,1)\n",
        "plt.plot(history.history['loss'], label = 'loss')\n",
        "plt.plot(history.history['val_loss'],label = 'val_loss')\n",
        "plt.legend(loc = 'best')\n",
        "plt.subplot(2,1,2)\n",
        "plt.plot(history.history['accuracy'], label = 'accuracy')\n",
        "plt.plot(history.history['val_accuracy'], label = 'val_accuracy')\n",
        "plt.legend(loc = 'best')\n",
        "plt.show()"
      ],
      "execution_count": null,
      "outputs": [
        {
          "data": {
            "image/png": "[encoded data removed]",
            "text/plain": [
              "<Figure size 432x288 with 2 Axes>"
            ]
          },
          "metadata": {
            "tags": []
          },
          "output_type": "display_data"
        }
      ]
    },
    {
      "cell_type": "markdown",
      "metadata": {
        "id": "Jef6Gces37CL"
      },
      "source": [
        "Training our model in all train data"
      ]
    },
    {
      "cell_type": "code",
      "metadata": {
        "colab": {
          "base_uri": "https://localhost:8080/"
        },
        "id": "Du0afWJW3-sP",
        "outputId": "fc536143-729a-4b28-f5de-471d007b6921"
      },
      "source": [
        "tokenizer = Tokenizer(num_words = vocab, oov_token = oov)\n",
        "tokenizer.fit_on_texts(train_.text)\n",
        "word_index = tokenizer.word_index\n",
        "print(\"length: \",len(word_index))\n",
        "\n",
        "training_x = tokenizer.texts_to_sequences(train_.text)\n",
        "training_x_pad = pad_sequences(training_x,maxlen=25, padding=padding, truncating=truncate)\n",
        "\n",
        "testing_x_data = tokenizer.texts_to_sequences(test_data.text)\n",
        "testing_x_pad = pad_sequences(testing_x_data,maxlen=25, padding=padding, truncating=truncate)\n",
        "\n",
        "training_y = train_y.values\n"
      ],
      "execution_count": null,
      "outputs": [
        {
          "name": "stdout",
          "output_type": "stream",
          "text": [
            "length:  15969\n"
          ]
        }
      ]
    },
    {
      "cell_type": "markdown",
      "metadata": {
        "id": "iRCEPIkD6E-z"
      },
      "source": [
        "Fitting our data"
      ]
    },
    {
      "cell_type": "code",
      "metadata": {
        "colab": {
          "base_uri": "https://localhost:8080/"
        },
        "id": "lmYC-xqx6EMU",
        "outputId": "f49a6e08-1a04-4522-dff3-2dcd0bd14de7"
      },
      "source": [
        "model.fit(training_x_pad, training_y, epochs = 3)"
      ],
      "execution_count": null,
      "outputs": [
        {
          "name": "stdout",
          "output_type": "stream",
          "text": [
            "Epoch 1/3\n",
            "238/238 [==============================] - 19s 79ms/step - loss: 0.6852 - accuracy: 0.5688\n",
            "Epoch 2/3\n",
            "238/238 [==============================] - 19s 81ms/step - loss: 0.5220 - accuracy: 0.7513\n",
            "Epoch 3/3\n",
            "238/238 [==============================] - 20s 86ms/step - loss: 0.2836 - accuracy: 0.8993\n"
          ]
        },
        {
          "data": {
            "text/plain": [
              "<keras.callbacks.History at 0x7f0993c0fa50>"
            ]
          },
          "execution_count": 80,
          "metadata": {
            "tags": []
          },
          "output_type": "execute_result"
        }
      ]
    },
    {
      "cell_type": "markdown",
      "metadata": {
        "id": "fDRDMI-m6sbx"
      },
      "source": [
        "###For submission"
      ]
    },
    {
      "cell_type": "code",
      "source": [],
      "metadata": {
        "id": "4qFqFBkU0lKI"
      },
      "execution_count": null,
      "outputs": []
    },
    {
      "cell_type": "code",
      "metadata": {
        "id": "cEGf0uX76y_V"
      },
      "source": [
        "prediction = model.predict(testing_x_pad)\n",
        "predicted_value = (prediction > 0.5).astype(int)"
      ],
      "execution_count": null,
      "outputs": []
    },
    {
      "cell_type": "code",
      "metadata": {
        "colab": {
          "base_uri": "https://localhost:8080/",
          "height": 206
        },
        "id": "TaW4LssQ7U3i",
        "outputId": "e351d666-9053-4c05-c89a-c84b68314f23"
      },
      "source": [
        "submission = pd.read_csv(\"sample_submission.csv\")\n",
        "submission.head()"
      ],
      "execution_count": null,
      "outputs": [
        {
          "data": {
            "text/html": [
              "<div>\n",
              "<style scoped>\n",
              "    .dataframe tbody tr th:only-of-type {\n",
              "        vertical-align: middle;\n",
              "    }\n",
              "\n",
              "    .dataframe tbody tr th {\n",
              "        vertical-align: top;\n",
              "    }\n",
              "\n",
              "    .dataframe thead th {\n",
              "        text-align: right;\n",
              "    }\n",
              "</style>\n",
              "<table border=\"1\" class=\"dataframe\">\n",
              "  <thead>\n",
              "    <tr style=\"text-align: right;\">\n",
              "      <th></th>\n",
              "      <th>id</th>\n",
              "      <th>target</th>\n",
              "    </tr>\n",
              "  </thead>\n",
              "  <tbody>\n",
              "    <tr>\n",
              "      <th>0</th>\n",
              "      <td>0</td>\n",
              "      <td>0</td>\n",
              "    </tr>\n",
              "    <tr>\n",
              "      <th>1</th>\n",
              "      <td>2</td>\n",
              "      <td>0</td>\n",
              "    </tr>\n",
              "    <tr>\n",
              "      <th>2</th>\n",
              "      <td>3</td>\n",
              "      <td>0</td>\n",
              "    </tr>\n",
              "    <tr>\n",
              "      <th>3</th>\n",
              "      <td>9</td>\n",
              "      <td>0</td>\n",
              "    </tr>\n",
              "    <tr>\n",
              "      <th>4</th>\n",
              "      <td>11</td>\n",
              "      <td>0</td>\n",
              "    </tr>\n",
              "  </tbody>\n",
              "</table>\n",
              "</div>"
            ],
            "text/plain": [
              "   id  target\n",
              "0   0       0\n",
              "1   2       0\n",
              "2   3       0\n",
              "3   9       0\n",
              "4  11       0"
            ]
          },
          "execution_count": 82,
          "metadata": {
            "tags": []
          },
          "output_type": "execute_result"
        }
      ]
    },
    {
      "cell_type": "code",
      "source": [
        "def Get():\n",
        "    x1=eva(input (\"Enter first number\"))\n",
        "    X2=eva(input(\"Enter sec nUmber\"))\n",
        "    print(\"Answer = \" ,(x1+X2))\n",
        "\n",
        "\n",
        "Get()"
      ],
      "metadata": {
        "id": "-N2Mhbil_xQQ",
        "colab": {
          "base_uri": "https://localhost:8080/",
          "height": 495
        },
        "outputId": "b82de4bb-7b99-4c03-fe08-62ab5421702f"
      },
      "execution_count": null,
      "outputs": [
        {
          "output_type": "error",
          "ename": "NameError",
          "evalue": "ignored",
          "traceback": [
            "\u001b[0;31m---------------------------------------------------------------------------\u001b[0m",
            "\u001b[0;31mNameError\u001b[0m                                 Traceback (most recent call last)",
            "\u001b[0;32m<ipython-input-5-c0d2f543ee08>\u001b[0m in \u001b[0;36m<module>\u001b[0;34m()\u001b[0m\n\u001b[1;32m      5\u001b[0m \u001b[0;34m\u001b[0m\u001b[0m\n\u001b[1;32m      6\u001b[0m \u001b[0;34m\u001b[0m\u001b[0m\n\u001b[0;32m----> 7\u001b[0;31m \u001b[0mGet\u001b[0m\u001b[0;34m(\u001b[0m\u001b[0;34m)\u001b[0m\u001b[0;34m\u001b[0m\u001b[0;34m\u001b[0m\u001b[0m\n\u001b[0m",
            "\u001b[0;32m<ipython-input-5-c0d2f543ee08>\u001b[0m in \u001b[0;36mGet\u001b[0;34m()\u001b[0m\n\u001b[1;32m      1\u001b[0m \u001b[0;32mdef\u001b[0m \u001b[0mGet\u001b[0m\u001b[0;34m(\u001b[0m\u001b[0;34m)\u001b[0m\u001b[0;34m:\u001b[0m\u001b[0;34m\u001b[0m\u001b[0;34m\u001b[0m\u001b[0m\n\u001b[0;32m----> 2\u001b[0;31m     \u001b[0mx1\u001b[0m\u001b[0;34m=\u001b[0m\u001b[0meva\u001b[0m\u001b[0;34m(\u001b[0m\u001b[0minput\u001b[0m \u001b[0;34m(\u001b[0m\u001b[0;34m\"Enter first number\"\u001b[0m\u001b[0;34m)\u001b[0m\u001b[0;34m)\u001b[0m\u001b[0;34m\u001b[0m\u001b[0;34m\u001b[0m\u001b[0m\n\u001b[0m\u001b[1;32m      3\u001b[0m     \u001b[0mX2\u001b[0m\u001b[0;34m=\u001b[0m\u001b[0meva\u001b[0m\u001b[0;34m(\u001b[0m\u001b[0minput\u001b[0m\u001b[0;34m(\u001b[0m\u001b[0;34m\"Enter sec nUmber\"\u001b[0m\u001b[0;34m)\u001b[0m\u001b[0;34m)\u001b[0m\u001b[0;34m\u001b[0m\u001b[0;34m\u001b[0m\u001b[0m\n\u001b[1;32m      4\u001b[0m     \u001b[0mprint\u001b[0m\u001b[0;34m(\u001b[0m\u001b[0;34m\"Answer = \"\u001b[0m \u001b[0;34m,\u001b[0m\u001b[0;34m(\u001b[0m\u001b[0mx1\u001b[0m\u001b[0;34m+\u001b[0m\u001b[0mX2\u001b[0m\u001b[0;34m)\u001b[0m\u001b[0;34m)\u001b[0m\u001b[0;34m\u001b[0m\u001b[0;34m\u001b[0m\u001b[0m\n\u001b[1;32m      5\u001b[0m \u001b[0;34m\u001b[0m\u001b[0m\n",
            "\u001b[0;31mNameError\u001b[0m: name 'eva' is not defined"
          ]
        }
      ]
    },
    {
      "cell_type": "code",
      "source": [
        "class Rectangle:\n",
        "   L = int(input (\"enter the length\"))\n",
        "   W = int(input (\"enter the width\"))\n",
        "   def Calculate (self):\n",
        "       print(\"Area is\",self.L*self.W)\n",
        "R=Rectangle ()\n",
        "R.Calculate()"
      ],
      "metadata": {
        "colab": {
          "base_uri": "https://localhost:8080/"
        },
        "id": "MoYs1ql9DESy",
        "outputId": "b7ce6db2-5575-4588-f8b3-4c81e3ca3dcf"
      },
      "execution_count": null,
      "outputs": [
        {
          "output_type": "stream",
          "name": "stdout",
          "text": [
            "enter the length13\n",
            "enter the width13\n",
            "Area is 169\n"
          ]
        }
      ]
    },
    {
      "cell_type": "code",
      "source": [
        "\n",
        "\n",
        "scores = int(input (\"enter scores\"))\n",
        "if scores >= 70 and scores <= 100:\n",
        "        print(\"A\")\n",
        "elif scores >= 60 and scores <= 69:\n",
        "        print('B')\n",
        "elif scores >= 50 and scores <= 59:\n",
        "        print(\"c\")\n",
        "elif scores >= 40 and scores <= 49:\n",
        "        print(\"D\")\n",
        "elif scores >= 0 and scores <= 39:\n",
        "        print(\"E\")\n",
        "else:\n",
        "        print(\"invalid\")"
      ],
      "metadata": {
        "colab": {
          "base_uri": "https://localhost:8080/"
        },
        "id": "10kA31X38enk",
        "outputId": "4eb913b5-596c-4ad0-c4be-9b79ab66618c"
      },
      "execution_count": null,
      "outputs": [
        {
          "output_type": "stream",
          "name": "stdout",
          "text": [
            "enter scores80\n",
            "A\n"
          ]
        }
      ]
    },
    {
      "cell_type": "code",
      "source": [
        "for i in range (3,100):\n",
        "   print(i, end=\",\")"
      ],
      "metadata": {
        "colab": {
          "base_uri": "https://localhost:8080/"
        },
        "id": "9CJ-ojN3-j5P",
        "outputId": "ec6e8692-f654-405a-b596-4238abebe57c"
      },
      "execution_count": null,
      "outputs": [
        {
          "output_type": "stream",
          "name": "stdout",
          "text": [
            "3,4,5,6,7,8,9,10,11,12,13,14,15,16,17,18,19,20,21,22,23,24,25,26,27,28,29,30,31,32,33,34,35,36,37,38,39,40,41,42,43,44,45,46,47,48,49,50,51,52,53,54,55,56,57,58,59,60,61,62,63,64,65,66,67,68,69,70,71,72,73,74,75,76,77,78,79,80,81,82,83,84,85,86,87,88,89,90,91,92,93,94,95,96,97,98,99,"
          ]
        }
      ]
    },
    {
      "cell_type": "code",
      "source": [
        "\n",
        "i=3\n",
        "while(i<=100):\n",
        "   print (i,end=\",\")\n",
        "   i=i+2"
      ],
      "metadata": {
        "colab": {
          "base_uri": "https://localhost:8080/"
        },
        "id": "uQUkLEKFCind",
        "outputId": "b16ed588-b19e-45f4-e7cb-950fb4b7d16c"
      },
      "execution_count": null,
      "outputs": [
        {
          "output_type": "stream",
          "name": "stdout",
          "text": [
            "3,5,7,9,11,13,15,17,19,21,23,25,27,29,31,33,35,37,39,41,43,45,47,49,51,53,55,57,59,61,63,65,67,69,71,73,75,77,79,81,83,85,87,89,91,93,95,97,99,"
          ]
        }
      ]
    },
    {
      "cell_type": "code",
      "source": [
        "i=1\n",
        "while (i!=0):\n",
        "   x1=int(input(\"enter first no\"))\n",
        "   x2=int(input(\"Enter second no\"))\n",
        "print(\"sum is\", (x1+x2))\n",
        "i=int(input(\"enter 0 to exit or any number to continue\"))"
      ],
      "metadata": {
        "colab": {
          "base_uri": "https://localhost:8080/",
          "height": 991
        },
        "id": "KuvhIYWQF4gt",
        "outputId": "144586eb-38b0-4b53-e7c9-ed80c7967113"
      },
      "execution_count": null,
      "outputs": [
        {
          "output_type": "error",
          "ename": "KeyboardInterrupt",
          "evalue": "ignored",
          "traceback": [
            "\u001b[0;31m---------------------------------------------------------------------------\u001b[0m",
            "\u001b[0;31mKeyboardInterrupt\u001b[0m                         Traceback (most recent call last)",
            "\u001b[0;32m/usr/local/lib/python3.7/dist-packages/ipykernel/kernelbase.py\u001b[0m in \u001b[0;36m_input_request\u001b[0;34m(self, prompt, ident, parent, password)\u001b[0m\n\u001b[1;32m    728\u001b[0m             \u001b[0;32mtry\u001b[0m\u001b[0;34m:\u001b[0m\u001b[0;34m\u001b[0m\u001b[0;34m\u001b[0m\u001b[0m\n\u001b[0;32m--> 729\u001b[0;31m                 \u001b[0mident\u001b[0m\u001b[0;34m,\u001b[0m \u001b[0mreply\u001b[0m \u001b[0;34m=\u001b[0m \u001b[0mself\u001b[0m\u001b[0;34m.\u001b[0m\u001b[0msession\u001b[0m\u001b[0;34m.\u001b[0m\u001b[0mrecv\u001b[0m\u001b[0;34m(\u001b[0m\u001b[0mself\u001b[0m\u001b[0;34m.\u001b[0m\u001b[0mstdin_socket\u001b[0m\u001b[0;34m,\u001b[0m \u001b[0;36m0\u001b[0m\u001b[0;34m)\u001b[0m\u001b[0;34m\u001b[0m\u001b[0;34m\u001b[0m\u001b[0m\n\u001b[0m\u001b[1;32m    730\u001b[0m             \u001b[0;32mexcept\u001b[0m \u001b[0mException\u001b[0m\u001b[0;34m:\u001b[0m\u001b[0;34m\u001b[0m\u001b[0;34m\u001b[0m\u001b[0m\n",
            "\u001b[0;32m/usr/local/lib/python3.7/dist-packages/jupyter_client/session.py\u001b[0m in \u001b[0;36mrecv\u001b[0;34m(self, socket, mode, content, copy)\u001b[0m\n\u001b[1;32m    802\u001b[0m         \u001b[0;32mtry\u001b[0m\u001b[0;34m:\u001b[0m\u001b[0;34m\u001b[0m\u001b[0;34m\u001b[0m\u001b[0m\n\u001b[0;32m--> 803\u001b[0;31m             \u001b[0mmsg_list\u001b[0m \u001b[0;34m=\u001b[0m \u001b[0msocket\u001b[0m\u001b[0;34m.\u001b[0m\u001b[0mrecv_multipart\u001b[0m\u001b[0;34m(\u001b[0m\u001b[0mmode\u001b[0m\u001b[0;34m,\u001b[0m \u001b[0mcopy\u001b[0m\u001b[0;34m=\u001b[0m\u001b[0mcopy\u001b[0m\u001b[0;34m)\u001b[0m\u001b[0;34m\u001b[0m\u001b[0;34m\u001b[0m\u001b[0m\n\u001b[0m\u001b[1;32m    804\u001b[0m         \u001b[0;32mexcept\u001b[0m \u001b[0mzmq\u001b[0m\u001b[0;34m.\u001b[0m\u001b[0mZMQError\u001b[0m \u001b[0;32mas\u001b[0m \u001b[0me\u001b[0m\u001b[0;34m:\u001b[0m\u001b[0;34m\u001b[0m\u001b[0;34m\u001b[0m\u001b[0m\n",
            "\u001b[0;32m/usr/local/lib/python3.7/dist-packages/zmq/sugar/socket.py\u001b[0m in \u001b[0;36mrecv_multipart\u001b[0;34m(self, flags, copy, track)\u001b[0m\n\u001b[1;32m    723\u001b[0m         \"\"\"\n\u001b[0;32m--> 724\u001b[0;31m         \u001b[0mparts\u001b[0m \u001b[0;34m=\u001b[0m \u001b[0;34m[\u001b[0m\u001b[0mself\u001b[0m\u001b[0;34m.\u001b[0m\u001b[0mrecv\u001b[0m\u001b[0;34m(\u001b[0m\u001b[0mflags\u001b[0m\u001b[0;34m,\u001b[0m \u001b[0mcopy\u001b[0m\u001b[0;34m=\u001b[0m\u001b[0mcopy\u001b[0m\u001b[0;34m,\u001b[0m \u001b[0mtrack\u001b[0m\u001b[0;34m=\u001b[0m\u001b[0mtrack\u001b[0m\u001b[0;34m)\u001b[0m\u001b[0;34m]\u001b[0m\u001b[0;34m\u001b[0m\u001b[0;34m\u001b[0m\u001b[0m\n\u001b[0m\u001b[1;32m    725\u001b[0m         \u001b[0;31m# have first part already, only loop while more to receive\u001b[0m\u001b[0;34m\u001b[0m\u001b[0;34m\u001b[0m\u001b[0;34m\u001b[0m\u001b[0m\n",
            "\u001b[0;32mzmq/backend/cython/socket.pyx\u001b[0m in \u001b[0;36mzmq.backend.cython.socket.Socket.recv\u001b[0;34m()\u001b[0m\n",
            "\u001b[0;32mzmq/backend/cython/socket.pyx\u001b[0m in \u001b[0;36mzmq.backend.cython.socket.Socket.recv\u001b[0;34m()\u001b[0m\n",
            "\u001b[0;32mzmq/backend/cython/socket.pyx\u001b[0m in \u001b[0;36mzmq.backend.cython.socket._recv_copy\u001b[0;34m()\u001b[0m\n",
            "\u001b[0;32m/usr/local/lib/python3.7/dist-packages/zmq/backend/cython/checkrc.pxd\u001b[0m in \u001b[0;36mzmq.backend.cython.checkrc._check_rc\u001b[0;34m()\u001b[0m\n",
            "\u001b[0;31mKeyboardInterrupt\u001b[0m: ",
            "\nDuring handling of the above exception, another exception occurred:\n",
            "\u001b[0;31mKeyboardInterrupt\u001b[0m                         Traceback (most recent call last)",
            "\u001b[0;32m<ipython-input-9-ea045222a618>\u001b[0m in \u001b[0;36m<module>\u001b[0;34m()\u001b[0m\n\u001b[1;32m      1\u001b[0m \u001b[0mi\u001b[0m\u001b[0;34m=\u001b[0m\u001b[0;36m1\u001b[0m\u001b[0;34m\u001b[0m\u001b[0;34m\u001b[0m\u001b[0m\n\u001b[1;32m      2\u001b[0m \u001b[0;32mwhile\u001b[0m \u001b[0;34m(\u001b[0m\u001b[0mi\u001b[0m\u001b[0;34m!=\u001b[0m\u001b[0;36m0\u001b[0m\u001b[0;34m)\u001b[0m\u001b[0;34m:\u001b[0m\u001b[0;34m\u001b[0m\u001b[0;34m\u001b[0m\u001b[0m\n\u001b[0;32m----> 3\u001b[0;31m    \u001b[0mx1\u001b[0m\u001b[0;34m=\u001b[0m\u001b[0mint\u001b[0m\u001b[0;34m(\u001b[0m\u001b[0minput\u001b[0m\u001b[0;34m(\u001b[0m\u001b[0;34m\"enter first no\"\u001b[0m\u001b[0;34m)\u001b[0m\u001b[0;34m)\u001b[0m\u001b[0;34m\u001b[0m\u001b[0;34m\u001b[0m\u001b[0m\n\u001b[0m\u001b[1;32m      4\u001b[0m    \u001b[0mx2\u001b[0m\u001b[0;34m=\u001b[0m\u001b[0mint\u001b[0m\u001b[0;34m(\u001b[0m\u001b[0minput\u001b[0m\u001b[0;34m(\u001b[0m\u001b[0;34m\"Enter second no\"\u001b[0m\u001b[0;34m)\u001b[0m\u001b[0;34m)\u001b[0m\u001b[0;34m\u001b[0m\u001b[0;34m\u001b[0m\u001b[0m\n\u001b[1;32m      5\u001b[0m \u001b[0mprint\u001b[0m\u001b[0;34m(\u001b[0m\u001b[0;34m\"sum is\"\u001b[0m\u001b[0;34m,\u001b[0m \u001b[0;34m(\u001b[0m\u001b[0mx1\u001b[0m\u001b[0;34m+\u001b[0m\u001b[0mx2\u001b[0m\u001b[0;34m)\u001b[0m\u001b[0;34m)\u001b[0m\u001b[0;34m\u001b[0m\u001b[0;34m\u001b[0m\u001b[0m\n",
            "\u001b[0;32m/usr/local/lib/python3.7/dist-packages/ipykernel/kernelbase.py\u001b[0m in \u001b[0;36mraw_input\u001b[0;34m(self, prompt)\u001b[0m\n\u001b[1;32m    702\u001b[0m             \u001b[0mself\u001b[0m\u001b[0;34m.\u001b[0m\u001b[0m_parent_ident\u001b[0m\u001b[0;34m,\u001b[0m\u001b[0;34m\u001b[0m\u001b[0;34m\u001b[0m\u001b[0m\n\u001b[1;32m    703\u001b[0m             \u001b[0mself\u001b[0m\u001b[0;34m.\u001b[0m\u001b[0m_parent_header\u001b[0m\u001b[0;34m,\u001b[0m\u001b[0;34m\u001b[0m\u001b[0;34m\u001b[0m\u001b[0m\n\u001b[0;32m--> 704\u001b[0;31m             \u001b[0mpassword\u001b[0m\u001b[0;34m=\u001b[0m\u001b[0;32mFalse\u001b[0m\u001b[0;34m,\u001b[0m\u001b[0;34m\u001b[0m\u001b[0;34m\u001b[0m\u001b[0m\n\u001b[0m\u001b[1;32m    705\u001b[0m         )\n\u001b[1;32m    706\u001b[0m \u001b[0;34m\u001b[0m\u001b[0m\n",
            "\u001b[0;32m/usr/local/lib/python3.7/dist-packages/ipykernel/kernelbase.py\u001b[0m in \u001b[0;36m_input_request\u001b[0;34m(self, prompt, ident, parent, password)\u001b[0m\n\u001b[1;32m    732\u001b[0m             \u001b[0;32mexcept\u001b[0m \u001b[0mKeyboardInterrupt\u001b[0m\u001b[0;34m:\u001b[0m\u001b[0;34m\u001b[0m\u001b[0;34m\u001b[0m\u001b[0m\n\u001b[1;32m    733\u001b[0m                 \u001b[0;31m# re-raise KeyboardInterrupt, to truncate traceback\u001b[0m\u001b[0;34m\u001b[0m\u001b[0;34m\u001b[0m\u001b[0;34m\u001b[0m\u001b[0m\n\u001b[0;32m--> 734\u001b[0;31m                 \u001b[0;32mraise\u001b[0m \u001b[0mKeyboardInterrupt\u001b[0m\u001b[0;34m\u001b[0m\u001b[0;34m\u001b[0m\u001b[0m\n\u001b[0m\u001b[1;32m    735\u001b[0m             \u001b[0;32melse\u001b[0m\u001b[0;34m:\u001b[0m\u001b[0;34m\u001b[0m\u001b[0;34m\u001b[0m\u001b[0m\n\u001b[1;32m    736\u001b[0m                 \u001b[0;32mbreak\u001b[0m\u001b[0;34m\u001b[0m\u001b[0;34m\u001b[0m\u001b[0m\n",
            "\u001b[0;31mKeyboardInterrupt\u001b[0m: "
          ]
        }
      ]
    },
    {
      "cell_type": "code",
      "source": [
        "l1=list()\n",
        "l2=list()\n",
        "l3=list()\n",
        "\n",
        "F=\"XYZ\"\n",
        "\n",
        "while(F !=\"stop\"):\n",
        "     x= input(\"select A,B,C\")\n",
        "     if(x==A):\n",
        "       l1.append(x)\n",
        "     elif(x==B):\n",
        "       l2.append(x)\n",
        "     elif (x==C):\n",
        "       l3.append(x)\n",
        "     else :\n",
        "       print(\"invalid vote\")\n",
        "\n",
        "     F = input(\"Enter stop to exit or any character to continue\")\n",
        "print(\"A gunnered\", len(l1), \"votes\")\n",
        "print(\"A gunnered\", len(l2), \"votes\")\n",
        "print(\"A gunnered\", len(l3), \"votes\")"
      ],
      "metadata": {
        "colab": {
          "base_uri": "https://localhost:8080/",
          "height": 374
        },
        "id": "1-Im-rcx0my8",
        "outputId": "3e97ddc3-d097-4552-e499-0706ab2fa47f"
      },
      "execution_count": null,
      "outputs": [
        {
          "name": "stdout",
          "output_type": "stream",
          "text": [
            "select A,B,CA\n"
          ]
        },
        {
          "output_type": "error",
          "ename": "NameError",
          "evalue": "ignored",
          "traceback": [
            "\u001b[0;31m---------------------------------------------------------------------------\u001b[0m",
            "\u001b[0;31mNameError\u001b[0m                                 Traceback (most recent call last)",
            "\u001b[0;32m<ipython-input-8-ef03fc3cb0f7>\u001b[0m in \u001b[0;36m<module>\u001b[0;34m()\u001b[0m\n\u001b[1;32m      7\u001b[0m \u001b[0;32mwhile\u001b[0m\u001b[0;34m(\u001b[0m\u001b[0mF\u001b[0m \u001b[0;34m!=\u001b[0m\u001b[0;34m\"stop\"\u001b[0m\u001b[0;34m)\u001b[0m\u001b[0;34m:\u001b[0m\u001b[0;34m\u001b[0m\u001b[0;34m\u001b[0m\u001b[0m\n\u001b[1;32m      8\u001b[0m      \u001b[0mx\u001b[0m\u001b[0;34m=\u001b[0m \u001b[0minput\u001b[0m\u001b[0;34m(\u001b[0m\u001b[0;34m\"select A,B,C\"\u001b[0m\u001b[0;34m)\u001b[0m\u001b[0;34m\u001b[0m\u001b[0;34m\u001b[0m\u001b[0m\n\u001b[0;32m----> 9\u001b[0;31m      \u001b[0;32mif\u001b[0m\u001b[0;34m(\u001b[0m\u001b[0mx\u001b[0m\u001b[0;34m==\u001b[0m\u001b[0mA\u001b[0m\u001b[0;34m)\u001b[0m\u001b[0;34m:\u001b[0m\u001b[0;34m\u001b[0m\u001b[0;34m\u001b[0m\u001b[0m\n\u001b[0m\u001b[1;32m     10\u001b[0m        \u001b[0ml1\u001b[0m\u001b[0;34m.\u001b[0m\u001b[0mappend\u001b[0m\u001b[0;34m(\u001b[0m\u001b[0mx\u001b[0m\u001b[0;34m)\u001b[0m\u001b[0;34m\u001b[0m\u001b[0;34m\u001b[0m\u001b[0m\n\u001b[1;32m     11\u001b[0m      \u001b[0;32melif\u001b[0m\u001b[0;34m(\u001b[0m\u001b[0mx\u001b[0m\u001b[0;34m==\u001b[0m\u001b[0mB\u001b[0m\u001b[0;34m)\u001b[0m\u001b[0;34m:\u001b[0m\u001b[0;34m\u001b[0m\u001b[0;34m\u001b[0m\u001b[0m\n",
            "\u001b[0;31mNameError\u001b[0m: name 'A' is not defined"
          ]
        }
      ]
    },
    {
      "cell_type": "code",
      "source": [
        "# Run this cell without changes\n",
        "frontier_restaurant = {'categories': [{'alias': 'mexican', 'title': 'Mexican'},\n",
        "  {'alias': 'diners', 'title': 'Diners'},\n",
        "  {'alias': 'tradamerican', 'title': 'American (Traditional)'}],\n",
        " 'coordinates': {'latitude': 35.0808088832532, 'longitude': -106.619402244687},\n",
        " 'display_phone': '(505) 266-0550',\n",
        " 'distance': 4033.6583235266075,\n",
        " 'id': 'frontier-restaurant-albuquerque-2',\n",
        " 'image_url': 'https://s3-media4.fl.yelpcdn.com/bphoto/M9L2z6-G0NobuDJ6YTh6VA/o.jpg',\n",
        " 'is_closed': False,\n",
        " 'location': {'address1': '2400 Central Ave SE',\n",
        "  'address2': '',\n",
        "  'address3': '',\n",
        "  'city': 'Albuquerque',\n",
        "  'country': 'US',\n",
        "  'display_address': ['2400 Central Ave SE', 'Albuquerque, NM 87106'],\n",
        "  'state': 'NM',\n",
        "  'zip_code': '87106'},\n",
        " 'name': 'Frontier Restaurant',\n",
        " 'phone': '+15052660550',\n",
        " 'price': '$',\n",
        " 'rating': 4.0,\n",
        " 'review_count': 1369,\n",
        " 'transactions': [],\n",
        " 'url': 'https://www.yelp.com/biz/frontier-restaurant-albuquerque-2?adjust_creative=SYc8R4Gowqru5h4SBKZXsQ&utm_campaign=yelp_api_v3&utm_medium=api_v3_business_search&utm_source=SYc8R4Gowqru5h4SBKZXsQ'}\n",
        "\n"
      ],
      "metadata": {
        "id": "8zfSzGFJLyhF"
      },
      "execution_count": null,
      "outputs": []
    },
    {
      "cell_type": "code",
      "source": [
        "print(\"The required call result : \" + str(frontier_restaurant['name']))"
      ],
      "metadata": {
        "colab": {
          "base_uri": "https://localhost:8080/"
        },
        "id": "TThNmEflNUey",
        "outputId": "2641f420-efb1-4426-89f0-6bca1cf8ba87"
      },
      "execution_count": null,
      "outputs": [
        {
          "output_type": "stream",
          "name": "stdout",
          "text": [
            "The required call result : Frontier Restaurant\n"
          ]
        }
      ]
    },
    {
      "cell_type": "code",
      "source": [
        "def restaurant_name(frontier_restaurant):\n",
        "  frontier_restaurant = {'categories': [{'alias': 'mexican', 'title': 'Mexican'},\n",
        "  {'alias': 'diners', 'title': 'Diners'},\n",
        "  {'alias': 'tradamerican', 'title': 'American (Traditional)'}],\n",
        " 'coordinates': {'latitude': 35.0808088832532, 'longitude': -106.619402244687},\n",
        " 'display_phone': '(505) 266-0550',\n",
        " 'distance': 4033.6583235266075,\n",
        " 'id': 'frontier-restaurant-albuquerque-2',\n",
        " 'image_url': 'https://s3-media4.fl.yelpcdn.com/bphoto/M9L2z6-G0NobuDJ6YTh6VA/o.jpg',\n",
        " 'is_closed': False,\n",
        " 'location': {'address1': '2400 Central Ave SE',\n",
        "  'address2': '',\n",
        "  'address3': '',\n",
        "  'city': 'Albuquerque',\n",
        "  'country': 'US',\n",
        "  'display_address': ['2400 Central Ave SE', 'Albuquerque, NM 87106'],\n",
        "  'state': 'NM',\n",
        "  'zip_code': '87106'},\n",
        " 'name': 'Frontier Restaurant',\n",
        " 'phone': '+15052660550',\n",
        " 'price': '$',\n",
        " 'rating': 4.0,\n",
        " 'review_count': 1369,\n",
        " 'transactions': [],\n",
        " 'url': 'https://www.yelp.com/biz/frontier-restaurant-albuquerque-2?adjust_creative=SYc8R4Gowqru5h4SBKZXsQ&utm_campaign=yelp_api_v3&utm_medium=api_v3_business_search&utm_source=SYc8R4Gowqru5h4SBKZXsQ'}\n",
        "\n",
        "\n",
        "\n",
        "  print(\"The required call result : \" + str(frontier_restaurant['name']))\n",
        "\n",
        "\n",
        "\n",
        "restaurant_name(frontier_restaurant)\n",
        "\n",
        "\n",
        "# calling function using brackets\n",
        "  #  res = frontier_restaurant['name']()\n",
        "\n",
        "# printing result\n",
        "  #  print(\"The required call result : \" + str(frontier_restaurant))\n",
        "\n",
        "#     print(frontier_restaurant.get('name'))\n",
        "\n",
        "\n",
        "\n",
        "    # Replace None with appropriate code\n",
        "#     None\n",
        "\n",
        "# frontier_restaurant.values()\n",
        "\n"
      ],
      "metadata": {
        "colab": {
          "base_uri": "https://localhost:8080/"
        },
        "id": "00iTDMTsL81q",
        "outputId": "332bd0f7-7a5a-400e-86be-57e6d58c2cc7"
      },
      "execution_count": null,
      "outputs": [
        {
          "output_type": "stream",
          "name": "stdout",
          "text": [
            "The required call result : Frontier Restaurant\n"
          ]
        }
      ]
    },
    {
      "cell_type": "code",
      "source": [
        "    def myFun(): # define function name\n",
        "        print(\" Welcome to JavaTpoint\")\n",
        "    myFun() # call to print the statement\n",
        ""
      ],
      "metadata": {
        "colab": {
          "base_uri": "https://localhost:8080/"
        },
        "id": "UKc_h_CtTNPB",
        "outputId": "83081cbb-7589-48c2-f19c-b0234c1177a7"
      },
      "execution_count": null,
      "outputs": [
        {
          "output_type": "stream",
          "name": "stdout",
          "text": [
            " Welcome to JavaTpoint\n"
          ]
        }
      ]
    },
    {
      "cell_type": "code",
      "source": [
        "dict1 = {\n",
        "    'age': 23,\n",
        "    'lifespan':75\n",
        "    }\n",
        "\n",
        "dict2={'age':45, 'lifespan':70}\n",
        "\n",
        "if dict1['age'] > dict2['age'] :\n",
        "   print(\"True\")\n",
        "else :\n",
        "   print(\"False\")\n"
      ],
      "metadata": {
        "colab": {
          "base_uri": "https://localhost:8080/"
        },
        "id": "XxEpaUyzWjXi",
        "outputId": "87987170-bf47-49b8-cd53-ac24289c2d01"
      },
      "execution_count": null,
      "outputs": [
        {
          "output_type": "stream",
          "name": "stdout",
          "text": [
            "False\n"
          ]
        }
      ]
    },
    {
      "cell_type": "code",
      "source": [],
      "metadata": {
        "id": "PNb7_UQ5zwIR"
      },
      "execution_count": null,
      "outputs": []
    }
  ]
}